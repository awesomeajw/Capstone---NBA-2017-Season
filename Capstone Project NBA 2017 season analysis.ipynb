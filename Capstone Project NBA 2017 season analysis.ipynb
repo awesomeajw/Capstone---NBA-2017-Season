{
 "cells": [
  {
   "cell_type": "code",
   "execution_count": 3,
   "id": "0e005586-b4c2-47c3-992c-a4ac24abe6e7",
   "metadata": {},
   "outputs": [],
   "source": [
    "import pandas as pd"
   ]
  },
  {
   "cell_type": "code",
   "execution_count": 14,
   "id": "6f579b4a-408f-4703-8aa9-ef9aa40b589b",
   "metadata": {},
   "outputs": [],
   "source": [
    "s2017_df = pd.read_csv('C:/Users/Aloysius/OneDrive/Documents/GitHub/Capstone---NBA-2017-Season/2017_season_data.csv', index_col=[0])"
   ]
  },
  {
   "cell_type": "code",
   "execution_count": 16,
   "id": "976637bd-931e-4d1d-a59b-b11172c61c34",
   "metadata": {
    "scrolled": true
   },
   "outputs": [],
   "source": [
    "players_df = pd.read_csv('C:/Users/Aloysius/OneDrive/Documents/GitHub/Capstone---NBA-2017-Season/player_data.csv', index_col=[0])"
   ]
  },
  {
   "cell_type": "code",
   "execution_count": 18,
   "id": "2e0e49d7-f61b-441f-90c9-5759c6f7d5cb",
   "metadata": {
    "scrolled": true
   },
   "outputs": [
    {
     "data": {
      "text/html": [
       "<div>\n",
       "<style scoped>\n",
       "    .dataframe tbody tr th:only-of-type {\n",
       "        vertical-align: middle;\n",
       "    }\n",
       "\n",
       "    .dataframe tbody tr th {\n",
       "        vertical-align: top;\n",
       "    }\n",
       "\n",
       "    .dataframe thead th {\n",
       "        text-align: right;\n",
       "    }\n",
       "</style>\n",
       "<table border=\"1\" class=\"dataframe\">\n",
       "  <thead>\n",
       "    <tr style=\"text-align: right;\">\n",
       "      <th></th>\n",
       "      <th>Year</th>\n",
       "      <th>Player</th>\n",
       "      <th>Pos</th>\n",
       "      <th>Age</th>\n",
       "      <th>Tm</th>\n",
       "      <th>G</th>\n",
       "      <th>GS</th>\n",
       "      <th>MP</th>\n",
       "      <th>PER</th>\n",
       "      <th>TS%</th>\n",
       "      <th>...</th>\n",
       "      <th>FT%</th>\n",
       "      <th>ORB</th>\n",
       "      <th>DRB</th>\n",
       "      <th>TRB</th>\n",
       "      <th>AST</th>\n",
       "      <th>STL</th>\n",
       "      <th>BLK</th>\n",
       "      <th>TOV</th>\n",
       "      <th>PF</th>\n",
       "      <th>PTS</th>\n",
       "    </tr>\n",
       "  </thead>\n",
       "  <tbody>\n",
       "    <tr>\n",
       "      <th>0</th>\n",
       "      <td>2017.0</td>\n",
       "      <td>Alex Abrines</td>\n",
       "      <td>SG</td>\n",
       "      <td>23.0</td>\n",
       "      <td>OKC</td>\n",
       "      <td>68.0</td>\n",
       "      <td>6.0</td>\n",
       "      <td>1055.0</td>\n",
       "      <td>10.1</td>\n",
       "      <td>0.560</td>\n",
       "      <td>...</td>\n",
       "      <td>0.898</td>\n",
       "      <td>18.0</td>\n",
       "      <td>68.0</td>\n",
       "      <td>86.0</td>\n",
       "      <td>40.0</td>\n",
       "      <td>37.0</td>\n",
       "      <td>8.0</td>\n",
       "      <td>33.0</td>\n",
       "      <td>114.0</td>\n",
       "      <td>406.0</td>\n",
       "    </tr>\n",
       "    <tr>\n",
       "      <th>1</th>\n",
       "      <td>2017.0</td>\n",
       "      <td>Quincy Acy</td>\n",
       "      <td>PF</td>\n",
       "      <td>26.0</td>\n",
       "      <td>TOT</td>\n",
       "      <td>38.0</td>\n",
       "      <td>1.0</td>\n",
       "      <td>558.0</td>\n",
       "      <td>11.8</td>\n",
       "      <td>0.565</td>\n",
       "      <td>...</td>\n",
       "      <td>0.750</td>\n",
       "      <td>20.0</td>\n",
       "      <td>95.0</td>\n",
       "      <td>115.0</td>\n",
       "      <td>18.0</td>\n",
       "      <td>14.0</td>\n",
       "      <td>15.0</td>\n",
       "      <td>21.0</td>\n",
       "      <td>67.0</td>\n",
       "      <td>222.0</td>\n",
       "    </tr>\n",
       "    <tr>\n",
       "      <th>2</th>\n",
       "      <td>2017.0</td>\n",
       "      <td>Quincy Acy</td>\n",
       "      <td>PF</td>\n",
       "      <td>26.0</td>\n",
       "      <td>DAL</td>\n",
       "      <td>6.0</td>\n",
       "      <td>0.0</td>\n",
       "      <td>48.0</td>\n",
       "      <td>-1.4</td>\n",
       "      <td>0.355</td>\n",
       "      <td>...</td>\n",
       "      <td>0.667</td>\n",
       "      <td>2.0</td>\n",
       "      <td>6.0</td>\n",
       "      <td>8.0</td>\n",
       "      <td>0.0</td>\n",
       "      <td>0.0</td>\n",
       "      <td>0.0</td>\n",
       "      <td>2.0</td>\n",
       "      <td>9.0</td>\n",
       "      <td>13.0</td>\n",
       "    </tr>\n",
       "    <tr>\n",
       "      <th>3</th>\n",
       "      <td>2017.0</td>\n",
       "      <td>Quincy Acy</td>\n",
       "      <td>PF</td>\n",
       "      <td>26.0</td>\n",
       "      <td>BRK</td>\n",
       "      <td>32.0</td>\n",
       "      <td>1.0</td>\n",
       "      <td>510.0</td>\n",
       "      <td>13.1</td>\n",
       "      <td>0.587</td>\n",
       "      <td>...</td>\n",
       "      <td>0.754</td>\n",
       "      <td>18.0</td>\n",
       "      <td>89.0</td>\n",
       "      <td>107.0</td>\n",
       "      <td>18.0</td>\n",
       "      <td>14.0</td>\n",
       "      <td>15.0</td>\n",
       "      <td>19.0</td>\n",
       "      <td>58.0</td>\n",
       "      <td>209.0</td>\n",
       "    </tr>\n",
       "    <tr>\n",
       "      <th>4</th>\n",
       "      <td>2017.0</td>\n",
       "      <td>Steven Adams</td>\n",
       "      <td>C</td>\n",
       "      <td>23.0</td>\n",
       "      <td>OKC</td>\n",
       "      <td>80.0</td>\n",
       "      <td>80.0</td>\n",
       "      <td>2389.0</td>\n",
       "      <td>16.5</td>\n",
       "      <td>0.589</td>\n",
       "      <td>...</td>\n",
       "      <td>0.611</td>\n",
       "      <td>282.0</td>\n",
       "      <td>333.0</td>\n",
       "      <td>615.0</td>\n",
       "      <td>86.0</td>\n",
       "      <td>88.0</td>\n",
       "      <td>78.0</td>\n",
       "      <td>146.0</td>\n",
       "      <td>195.0</td>\n",
       "      <td>905.0</td>\n",
       "    </tr>\n",
       "  </tbody>\n",
       "</table>\n",
       "<p>5 rows × 52 columns</p>\n",
       "</div>"
      ],
      "text/plain": [
       "     Year        Player Pos   Age   Tm     G    GS      MP   PER    TS%  ...  \\\n",
       "0  2017.0  Alex Abrines  SG  23.0  OKC  68.0   6.0  1055.0  10.1  0.560  ...   \n",
       "1  2017.0    Quincy Acy  PF  26.0  TOT  38.0   1.0   558.0  11.8  0.565  ...   \n",
       "2  2017.0    Quincy Acy  PF  26.0  DAL   6.0   0.0    48.0  -1.4  0.355  ...   \n",
       "3  2017.0    Quincy Acy  PF  26.0  BRK  32.0   1.0   510.0  13.1  0.587  ...   \n",
       "4  2017.0  Steven Adams   C  23.0  OKC  80.0  80.0  2389.0  16.5  0.589  ...   \n",
       "\n",
       "     FT%    ORB    DRB    TRB   AST   STL   BLK    TOV     PF    PTS  \n",
       "0  0.898   18.0   68.0   86.0  40.0  37.0   8.0   33.0  114.0  406.0  \n",
       "1  0.750   20.0   95.0  115.0  18.0  14.0  15.0   21.0   67.0  222.0  \n",
       "2  0.667    2.0    6.0    8.0   0.0   0.0   0.0    2.0    9.0   13.0  \n",
       "3  0.754   18.0   89.0  107.0  18.0  14.0  15.0   19.0   58.0  209.0  \n",
       "4  0.611  282.0  333.0  615.0  86.0  88.0  78.0  146.0  195.0  905.0  \n",
       "\n",
       "[5 rows x 52 columns]"
      ]
     },
     "execution_count": 18,
     "metadata": {},
     "output_type": "execute_result"
    }
   ],
   "source": [
    "s2017_df.head(5)"
   ]
  },
  {
   "cell_type": "code",
   "execution_count": 19,
   "id": "1173db56-5c35-46e3-bb88-26947fd8b4b7",
   "metadata": {},
   "outputs": [
    {
     "data": {
      "text/html": [
       "<div>\n",
       "<style scoped>\n",
       "    .dataframe tbody tr th:only-of-type {\n",
       "        vertical-align: middle;\n",
       "    }\n",
       "\n",
       "    .dataframe tbody tr th {\n",
       "        vertical-align: top;\n",
       "    }\n",
       "\n",
       "    .dataframe thead th {\n",
       "        text-align: right;\n",
       "    }\n",
       "</style>\n",
       "<table border=\"1\" class=\"dataframe\">\n",
       "  <thead>\n",
       "    <tr style=\"text-align: right;\">\n",
       "      <th></th>\n",
       "      <th>name</th>\n",
       "      <th>year_start</th>\n",
       "      <th>year_end</th>\n",
       "      <th>position</th>\n",
       "      <th>height</th>\n",
       "      <th>weight</th>\n",
       "      <th>birth_date</th>\n",
       "      <th>college</th>\n",
       "    </tr>\n",
       "  </thead>\n",
       "  <tbody>\n",
       "    <tr>\n",
       "      <th>0</th>\n",
       "      <td>Alaa Abdelnaby</td>\n",
       "      <td>1991</td>\n",
       "      <td>1995</td>\n",
       "      <td>F-C</td>\n",
       "      <td>6-10</td>\n",
       "      <td>240.0</td>\n",
       "      <td>June 24, 1968</td>\n",
       "      <td>Duke University</td>\n",
       "    </tr>\n",
       "  </tbody>\n",
       "</table>\n",
       "</div>"
      ],
      "text/plain": [
       "             name  year_start  year_end position height  weight  \\\n",
       "0  Alaa Abdelnaby        1991      1995      F-C   6-10   240.0   \n",
       "\n",
       "      birth_date          college  \n",
       "0  June 24, 1968  Duke University  "
      ]
     },
     "execution_count": 19,
     "metadata": {},
     "output_type": "execute_result"
    }
   ],
   "source": [
    "players_df.head(1)"
   ]
  },
  {
   "cell_type": "markdown",
   "id": "4a86eb15-6e52-4c28-b5ab-ac1fe074ba5f",
   "metadata": {},
   "source": [
    "### Data Wrangling Activities"
   ]
  },
  {
   "cell_type": "markdown",
   "id": "3bfcf7b7-dc32-4b0a-8cf0-d3d85573cba9",
   "metadata": {},
   "source": [
    "##### 1. Merge `s2017_df` and `players_df` with a left join"
   ]
  },
  {
   "cell_type": "code",
   "execution_count": 20,
   "id": "76a18152-a70c-4fd5-b021-e87d0fd7cdc0",
   "metadata": {},
   "outputs": [],
   "source": [
    "df = s2017_df.merge(players_df, how='left', left_on='Player', right_on='name').copy()"
   ]
  },
  {
   "cell_type": "markdown",
   "id": "aaf3cf41-94a7-4c06-a6f5-ddc231fb4b3f",
   "metadata": {},
   "source": [
    "##### 2. Are there misses (mismatches) in the resulting dataframe?"
   ]
  },
  {
   "cell_type": "code",
   "execution_count": 21,
   "id": "2d7932ef-2da5-4294-b961-5c836ed5de74",
   "metadata": {},
   "outputs": [
    {
     "data": {
      "text/plain": [
       "4"
      ]
     },
     "execution_count": 21,
     "metadata": {},
     "output_type": "execute_result"
    }
   ],
   "source": [
    "pd.set_option('display.max_columns',200)\n",
    "df.head()\n",
    "df['name'].isna().sum()"
   ]
  },
  {
   "cell_type": "markdown",
   "id": "76477e91-3b3d-46bb-9f36-6ca4c196cd04",
   "metadata": {},
   "source": [
    "##### 3. How many rows couldn't be matched?"
   ]
  },
  {
   "cell_type": "code",
   "execution_count": 22,
   "id": "b611d69b-624f-47d8-8414-17373e56908e",
   "metadata": {},
   "outputs": [
    {
     "data": {
      "text/plain": [
       "4"
      ]
     },
     "execution_count": 22,
     "metadata": {},
     "output_type": "execute_result"
    }
   ],
   "source": [
    "df['name'].isna().sum()"
   ]
  },
  {
   "cell_type": "markdown",
   "id": "c281908c-39e6-4a67-aaf4-21e2a64f2f3c",
   "metadata": {},
   "source": [
    "##### 4. Extract the names of the players that couldn't be matched"
   ]
  },
  {
   "cell_type": "code",
   "execution_count": 23,
   "id": "eca760c2-d146-4f8e-be69-20f1b51443ed",
   "metadata": {},
   "outputs": [],
   "source": [
    "player_misses = df[df['name'].isna()]['Player'].tolist()\n"
   ]
  },
  {
   "cell_type": "markdown",
   "id": "94ab5865-f856-4d4f-b0dc-b8d4ed80b397",
   "metadata": {},
   "source": [
    "##### 5. Modify `players_df` with the correct names to re-try a successful merge"
   ]
  },
  {
   "cell_type": "code",
   "execution_count": 24,
   "id": "e7ced775-b571-469b-aaca-e801f2c74f4e",
   "metadata": {},
   "outputs": [],
   "source": [
    "# players_df.query('name == \"Alaa Abdenlnaby\"')\n",
    "players_df.loc[players_df['name'].str.contains('Luc Mbah'),'name'] = \"Luc Mbah\"\n",
    "players_df.loc[players_df['name'].str.contains('James Michael'),'name'] ='James Michael'\n",
    "players_df.loc[players_df['name'].str.contains('Sheldon'),'name']='Sheldon McClellan'\n",
    "players_df.loc[players_df['name'].str.contains('Metta World'),'name']='Metta World'\n",
    "# s2017_df[s2017_df['Player'].str.contains('James Michael')]"
   ]
  },
  {
   "cell_type": "markdown",
   "id": "ede74255-882d-4e69-8929-fcc16c49cc84",
   "metadata": {},
   "source": [
    "##### 6. Perform the merge between `s2017_df` and `players_df` again, this time, without misses"
   ]
  },
  {
   "cell_type": "code",
   "execution_count": 27,
   "id": "5da93d2b-841c-411f-b665-84585b4b4942",
   "metadata": {},
   "outputs": [
    {
     "data": {
      "text/plain": [
       "0"
      ]
     },
     "execution_count": 27,
     "metadata": {},
     "output_type": "execute_result"
    }
   ],
   "source": [
    "df = s2017_df.merge(players_df, how = 'left', left_on = 'Player', right_on = 'name').copy()\n",
    "df['name'].isna().sum()"
   ]
  },
  {
   "cell_type": "markdown",
   "id": "99b38c0c-2538-4318-94bf-ccec59e8d46a",
   "metadata": {},
   "source": [
    "##### 7. Remove unnecessary columns"
   ]
  },
  {
   "cell_type": "code",
   "execution_count": 28,
   "id": "6422d574-ce0f-4e8b-ad81-aadc242568aa",
   "metadata": {},
   "outputs": [],
   "source": [
    "df.columns\n",
    "df= df[[ 'Player', 'Pos', 'Age', 'Tm', 'G', 'GS', 'MP', \n",
    "        'ORB%', 'DRB%', 'TRB%', 'AST%', 'STL%', 'BLK%', 'TOV%',\n",
    "        'FG', 'FGA',  '3P', '3PA',  '2P', '2PA',\n",
    "       '2P%',  'FT', 'FTA', 'ORB', 'DRB', 'TRB', 'AST', 'STL',\n",
    "       'BLK', 'TOV', 'PF', 'PTS', 'year_start', 'year_end', 'position',\n",
    "       'height', 'weight', 'birth_date', 'college']]"
   ]
  },
  {
   "cell_type": "markdown",
   "id": "03b215e6-2e9e-42ef-b934-ff7149223efe",
   "metadata": {},
   "source": [
    "##### 8. Rename teams to their full name"
   ]
  },
  {
   "cell_type": "code",
   "execution_count": 29,
   "id": "c60f0385-68b3-4e0d-a917-9c1df1151551",
   "metadata": {},
   "outputs": [],
   "source": [
    "team_mapping = {\n",
    "    \"OKC\": \"Oklahoma City Thunder\",\n",
    "    \"DAL\": \"Dallas Mavericks\",\n",
    "    \"BRK\": \"Brooklyn Nets\",\n",
    "    \"SAC\": \"Sacramento Kings\",\n",
    "    \"NOP\": \"New Orleans Pelicans\",\n",
    "    \"MIN\": \"Minnesota Timberwolves\",\n",
    "    \"SAS\": \"San Antonio Spurs\",\n",
    "    \"IND\": \"Indiana Pacers\",\n",
    "    \"MEM\": \"Memphis Grizzlies\",\n",
    "    \"POR\": \"Portland Trail Blazers\",\n",
    "    \"CLE\": \"Cleveland Cavaliers\",\n",
    "    \"LAC\": \"Los Angeles Clippers\",\n",
    "    \"PHI\": \"Philadelphia 76ers\",\n",
    "    \"HOU\": \"Houston Rockets\",\n",
    "    \"MIL\": \"Milwaukee Bucks\",\n",
    "    \"NYK\": \"New York Knicks\",\n",
    "    \"DEN\": \"Denver Nuggets\",\n",
    "    \"ORL\": \"Orlando Magic\",\n",
    "    \"MIA\": \"Miami Heat\",\n",
    "    \"PHO\": \"Phoenix Suns\",\n",
    "    \"GSW\": \"Golden State Warriors\",\n",
    "    \"CHO\": \"Charlotte Hornets\",\n",
    "    \"DET\": \"Detroit Pistons\",\n",
    "    \"ATL\": \"Atlanta Hawks\",\n",
    "    \"WAS\": \"Washington Wizards\",\n",
    "    \"LAL\": \"Los Angeles Lakers\",\n",
    "    \"UTA\": \"Utah Jazz\",\n",
    "    \"BOS\": \"Boston Celtics\",\n",
    "    \"CHI\": \"Chicago Bulls\",\n",
    "    \"TOR\": \"Toronto Raptors\"\n",
    "}\n",
    "\n",
    "df['Team'] = df['Tm'].replace(team_mapping)\n"
   ]
  },
  {
   "cell_type": "markdown",
   "id": "7849c588-c27f-4e92-a4f3-9b3b1c5d41d0",
   "metadata": {},
   "source": [
    "##### 9. Convert birthday to a datetime object"
   ]
  },
  {
   "cell_type": "code",
   "execution_count": 30,
   "id": "a26db254-cbb6-425d-8507-3eaf531ed735",
   "metadata": {},
   "outputs": [],
   "source": [
    "df['birth_date'] = pd.to_datetime(df['birth_date'])\n"
   ]
  },
  {
   "cell_type": "code",
   "execution_count": 33,
   "id": "b2f426fa-82d4-45b9-a8aa-d7308e97dfe4",
   "metadata": {},
   "outputs": [],
   "source": [
    "df_copy= df.copy()\n",
    "df = df_copy.copy()\n",
    "df1 = df_copy.copy()"
   ]
  },
  {
   "cell_type": "markdown",
   "id": "982702d9-ec52-412c-a764-62276a537fe8",
   "metadata": {},
   "source": [
    "##### 10. Delete all players from the `TOT` team"
   ]
  },
  {
   "cell_type": "code",
   "execution_count": 39,
   "id": "6aaec90b-ce86-43de-ae6e-c6ef39fba61c",
   "metadata": {},
   "outputs": [
    {
     "data": {
      "text/plain": [
       "0"
      ]
     },
     "execution_count": 39,
     "metadata": {},
     "output_type": "execute_result"
    }
   ],
   "source": [
    "df.drop(df[df['Team'] == 'TOT'].index, inplace = True)\n",
    "df1 = df1[~(df1['Team'] == 'TOT')].copy()\n",
    "(df['Team'] == 'TOT').sum()"
   ]
  },
  {
   "cell_type": "code",
   "execution_count": null,
   "id": "6bfb812b-ebbe-4a3f-8de2-72d3ab21aecb",
   "metadata": {},
   "outputs": [],
   "source": [
    "df.equals(df1)"
   ]
  },
  {
   "cell_type": "markdown",
   "id": "696c0439-b7eb-4436-90ff-d8339a5aca1c",
   "metadata": {},
   "source": [
    "### Analysis\n"
   ]
  },
  {
   "cell_type": "markdown",
   "id": "1222f3f7-4a0a-489d-a93a-8010507e9163",
   "metadata": {},
   "source": [
    "##### 11. What's the team with the most players in the league?"
   ]
  },
  {
   "cell_type": "code",
   "execution_count": 41,
   "id": "c6d48b6f-ad5e-42d5-be3d-d6a089a3411a",
   "metadata": {},
   "outputs": [
    {
     "data": {
      "text/plain": [
       "Team\n",
       "New Orleans Pelicans      27\n",
       "Dallas Mavericks          24\n",
       "Cleveland Cavaliers       22\n",
       "Philadelphia 76ers        22\n",
       "Atlanta Hawks             22\n",
       "Brooklyn Nets             21\n",
       "Milwaukee Bucks           20\n",
       "Oklahoma City Thunder     19\n",
       "Denver Nuggets            19\n",
       "Charlotte Hornets         19\n",
       "Los Angeles Lakers        19\n",
       "Sacramento Kings          19\n",
       "Orlando Magic             19\n",
       "Chicago Bulls             18\n",
       "Houston Rockets           18\n",
       "Washington Wizards        18\n",
       "Phoenix Suns              18\n",
       "Golden State Warriors     17\n",
       "Toronto Raptors           17\n",
       "Memphis Grizzlies         17\n",
       "Indiana Pacers            17\n",
       "San Antonio Spurs         17\n",
       "Minnesota Timberwolves    16\n",
       "New York Knicks           16\n",
       "Miami Heat                15\n",
       "Los Angeles Clippers      15\n",
       "Portland Trail Blazers    15\n",
       "Detroit Pistons           15\n",
       "Utah Jazz                 15\n",
       "Boston Celtics            15\n",
       "Name: count, dtype: int64"
      ]
     },
     "execution_count": 41,
     "metadata": {},
     "output_type": "execute_result"
    }
   ],
   "source": [
    "df['Team'].value_counts().sort_values(ascending = False)"
   ]
  },
  {
   "cell_type": "markdown",
   "id": "6c52edee-dbcb-4b88-b22c-669c9182f63c",
   "metadata": {},
   "source": [
    "##### 12. What's the team with the lowest `FG`?"
   ]
  },
  {
   "cell_type": "code",
   "execution_count": 42,
   "id": "d204d8fb-2cdf-465a-bbfb-23a947da20b8",
   "metadata": {},
   "outputs": [
    {
     "data": {
      "text/plain": [
       "Team\n",
       "Dallas Mavericks          2968.0\n",
       "Memphis Grizzlies         2984.0\n",
       "Utah Jazz                 3033.0\n",
       "Charlotte Hornets         3093.0\n",
       "Brooklyn Nets             3102.0\n",
       "Sacramento Kings          3105.0\n",
       "Orlando Magic             3139.0\n",
       "Boston Celtics            3168.0\n",
       "Chicago Bulls             3169.0\n",
       "Milwaukee Bucks           3190.0\n",
       "Miami Heat                3202.0\n",
       "Toronto Raptors           3211.0\n",
       "New Orleans Pelicans      3218.0\n",
       "Minnesota Timberwolves    3235.0\n",
       "Oklahoma City Thunder     3237.0\n",
       "Los Angeles Clippers      3242.0\n",
       "Portland Trail Blazers    3243.0\n",
       "New York Knicks           3244.0\n",
       "Detroit Pistons           3269.0\n",
       "Phoenix Suns              3270.0\n",
       "Houston Rockets           3305.0\n",
       "Cleveland Cavaliers       3311.0\n",
       "Philadelphia 76ers        3322.0\n",
       "Denver Nuggets            3377.0\n",
       "Indiana Pacers            3379.0\n",
       "Washington Wizards        3388.0\n",
       "Los Angeles Lakers        3414.0\n",
       "San Antonio Spurs         3470.0\n",
       "Golden State Warriors     3532.0\n",
       "Atlanta Hawks             3595.0\n",
       "Name: FG, dtype: float64"
      ]
     },
     "execution_count": 42,
     "metadata": {},
     "output_type": "execute_result"
    }
   ],
   "source": [
    "df.groupby('Team')['FG'].sum().sort_values()"
   ]
  },
  {
   "cell_type": "markdown",
   "id": "1df671e7-b8a4-49c4-924f-a728270d0fa8",
   "metadata": {},
   "source": [
    "##### 13. What's the team with the best `FG%`?"
   ]
  },
  {
   "cell_type": "code",
   "execution_count": 43,
   "id": "3ce29257-8f3b-459d-a168-d860ab612603",
   "metadata": {},
   "outputs": [
    {
     "data": {
      "text/plain": [
       "Team\n",
       "Golden State Warriors     0.494678\n",
       "San Antonio Spurs         0.476387\n",
       "Los Angeles Clippers      0.475436\n",
       "Washington Wizards        0.474776\n",
       "Milwaukee Bucks           0.473505\n",
       "Cleveland Cavaliers       0.469446\n",
       "Denver Nuggets            0.469419\n",
       "Minnesota Timberwolves    0.467350\n",
       "Utah Jazz                 0.465613\n",
       "Indiana Pacers            0.464787\n",
       "Toronto Raptors           0.464151\n",
       "Houston Rockets           0.462109\n",
       "Sacramento Kings          0.461024\n",
       "Portland Trail Blazers    0.459414\n",
       "Miami Heat                0.455023\n",
       "Boston Celtics            0.453998\n",
       "Los Angeles Lakers        0.453688\n",
       "Atlanta Hawks             0.451576\n",
       "Oklahoma City Thunder     0.451527\n",
       "Phoenix Suns              0.450413\n",
       "New Orleans Pelicans      0.449818\n",
       "Detroit Pistons           0.448915\n",
       "New York Knicks           0.447140\n",
       "Brooklyn Nets             0.443967\n",
       "Chicago Bulls             0.443713\n",
       "Charlotte Hornets         0.441857\n",
       "Philadelphia 76ers        0.440292\n",
       "Orlando Magic             0.440067\n",
       "Dallas Mavericks          0.439704\n",
       "Memphis Grizzlies         0.435366\n",
       "dtype: float64"
      ]
     },
     "execution_count": 43,
     "metadata": {},
     "output_type": "execute_result"
    }
   ],
   "source": [
    "(df.groupby('Team')['FG'].sum()/df.groupby('Team')['FGA'].sum()).sort_values(ascending=False)"
   ]
  },
  {
   "cell_type": "markdown",
   "id": "45266401-e361-4cb7-af70-578516f1af67",
   "metadata": {},
   "source": [
    "##### 14. What's the difference between the best and worst 3P shooters (by position)?"
   ]
  },
  {
   "cell_type": "code",
   "execution_count": 44,
   "id": "9edb5081-cff6-458b-9699-0536a201804a",
   "metadata": {},
   "outputs": [
    {
     "data": {
      "text/plain": [
       "0.024253659969040164"
      ]
     },
     "execution_count": 44,
     "metadata": {},
     "output_type": "execute_result"
    }
   ],
   "source": [
    "ThreePt_per = (df.groupby('Pos')['3P'].sum()/df.groupby('Pos')['3PA'].sum()).sort_values(ascending=False)\n",
    "\n",
    "ThreePt_per.max() - ThreePt_per.min()"
   ]
  },
  {
   "cell_type": "markdown",
   "id": "adad22bb-f18c-4399-9430-f142ceca0641",
   "metadata": {},
   "source": [
    "##### 15. Find the best scorers in each team"
   ]
  },
  {
   "cell_type": "code",
   "execution_count": 45,
   "id": "0f5c6e4d-a8eb-4b1e-9efc-4ca51e613e1b",
   "metadata": {},
   "outputs": [],
   "source": [
    "best_scorers_per_team = ...\n",
    "df1 = df.copy()\n",
    "df1.sort_values(by = 'PTS')\n",
    "best_scorers_per_team = df1.sort_values(by = 'PTS').drop_duplicates(subset = 'Team' ,keep = 'last').sort_values(ascending = False, by='PTS')[[\n",
    "    'Player',\n",
    "    'Team',\n",
    "    'Pos',\n",
    "    'PTS'\n",
    "]]\n",
    "\n",
    "# best_scorers_per_team = df.loc[\n",
    "#     df['PTS'] == df[\"Best Score per Team\"],\n",
    "#     ['Player', 'Team', 'Pos', 'PTS']\n",
    "# ].sort_values(by='PTS', ascending=False)"
   ]
  },
  {
   "cell_type": "markdown",
   "id": "b3fe703d-e3e0-47fb-8445-789a53e854eb",
   "metadata": {},
   "source": [
    "##### 16. Which team has the 'youngest squad', by average player age?"
   ]
  },
  {
   "cell_type": "code",
   "execution_count": 46,
   "id": "da54ac18-c5f5-46c6-8fc5-a560fceb9774",
   "metadata": {},
   "outputs": [
    {
     "data": {
      "text/plain": [
       "Team\n",
       "Portland Trail Blazers    24.333333\n",
       "Philadelphia 76ers        24.909091\n",
       "Toronto Raptors           25.117647\n",
       "Boston Celtics            25.266667\n",
       "Detroit Pistons           25.466667\n",
       "Orlando Magic             25.473684\n",
       "Denver Nuggets            25.473684\n",
       "Washington Wizards        25.666667\n",
       "Phoenix Suns              25.666667\n",
       "Minnesota Timberwolves    25.687500\n",
       "Charlotte Hornets         25.789474\n",
       "Brooklyn Nets             25.809524\n",
       "Chicago Bulls             25.888889\n",
       "Milwaukee Bucks           25.900000\n",
       "Oklahoma City Thunder     25.947368\n",
       "New Orleans Pelicans      25.962963\n",
       "Houston Rockets           26.000000\n",
       "Utah Jazz                 26.200000\n",
       "Los Angeles Lakers        26.578947\n",
       "Miami Heat                26.600000\n",
       "New York Knicks           26.625000\n",
       "Indiana Pacers            26.705882\n",
       "Sacramento Kings          26.736842\n",
       "Dallas Mavericks          26.750000\n",
       "Memphis Grizzlies         27.235294\n",
       "Golden State Warriors     27.882353\n",
       "Atlanta Hawks             28.363636\n",
       "San Antonio Spurs         29.000000\n",
       "Los Angeles Clippers      29.533333\n",
       "Cleveland Cavaliers       30.318182\n",
       "Name: Age, dtype: float64"
      ]
     },
     "execution_count": 46,
     "metadata": {},
     "output_type": "execute_result"
    }
   ],
   "source": [
    "df.groupby('Team')['Age'].mean().sort_values()"
   ]
  }
 ],
 "metadata": {
  "kernelspec": {
   "display_name": "Python 3 (ipykernel)",
   "language": "python",
   "name": "python3"
  },
  "language_info": {
   "codemirror_mode": {
    "name": "ipython",
    "version": 3
   },
   "file_extension": ".py",
   "mimetype": "text/x-python",
   "name": "python",
   "nbconvert_exporter": "python",
   "pygments_lexer": "ipython3",
   "version": "3.11.4"
  }
 },
 "nbformat": 4,
 "nbformat_minor": 5
}
